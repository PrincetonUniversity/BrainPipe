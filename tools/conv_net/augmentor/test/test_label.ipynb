{
 "cells": [
  {
   "cell_type": "code",
   "execution_count": 1,
   "metadata": {},
   "outputs": [],
   "source": [
    "%matplotlib inline"
   ]
  },
  {
   "cell_type": "markdown",
   "metadata": {},
   "source": [
    "## DataProvider"
   ]
  },
  {
   "cell_type": "code",
   "execution_count": 2,
   "metadata": {},
   "outputs": [
    {
     "name": "stderr",
     "output_type": "stream",
     "text": [
      "/usr/people/kisuk/miniconda2/envs/conda36/lib/python3.6/site-packages/h5py/__init__.py:36: FutureWarning: Conversion of the second argument of issubdtype from `float` to `np.floating` is deprecated. In future, it will be treated as `np.float64 == np.dtype(float).type`.\n",
      "  from ._conv import register_converters as _register_converters\n"
     ]
    }
   ],
   "source": [
    "import numpy as np\n",
    "\n",
    "from dataprovider3 import Dataset\n",
    "from dataprovider3 import DataProvider\n",
    "from dataprovider3 import emio"
   ]
  },
  {
   "cell_type": "code",
   "execution_count": 3,
   "metadata": {},
   "outputs": [],
   "source": [
    "import os\n",
    "\n",
    "base_dir = '~/Data_local/datasets/pinky/ground_truth'\n",
    "base_dir = os.path.expanduser(base_dir)\n",
    "\n",
    "def load_data(data_id):\n",
    "    data_dir = os.path.join(base_dir, data_id)    \n",
    "\n",
    "    # Image\n",
    "    fpath = os.path.join(data_dir, 'img.h5')\n",
    "    assert os.path.exists(fpath)\n",
    "    img = emio.imread(fpath)\n",
    "    img = (img/255.0).astype(np.float32)\n",
    "\n",
    "    # Segmentation\n",
    "    fpath = os.path.join(data_dir, 'seg.d10.b1.h5')\n",
    "    assert os.path.exists(fpath)\n",
    "    seg = emio.imread(fpath)\n",
    "\n",
    "    # Mask    \n",
    "    fpath = os.path.join(data_dir, 'msk_train.h5')\n",
    "    if not os.path.exists(fpath):\n",
    "        fpath = os.path.join(data_dir, 'msk.h5')\n",
    "    assert os.path.exists(fpath)\n",
    "    msk = emio.imread(fpath)\n",
    "    \n",
    "    return img, seg, msk"
   ]
  },
  {
   "cell_type": "code",
   "execution_count": null,
   "metadata": {},
   "outputs": [],
   "source": [
    "img, seg, msk = load_data('stitched_vol19-vol34')"
   ]
  },
  {
   "cell_type": "code",
   "execution_count": null,
   "metadata": {},
   "outputs": [],
   "source": [
    "import matplotlib.pyplot as plt\n",
    "\n",
    "def plot_data(img, seg, msk):\n",
    "    sz = 10\n",
    "    fig = plt.figure(figsize=(sz,sz))\n",
    "\n",
    "    plt.subplot(131)\n",
    "    z = img.shape[-3]//2\n",
    "    plt.imshow(img[z,:,:], cmap='gray')\n",
    "\n",
    "    plt.subplot(132)\n",
    "    z = img.shape[-3]//2\n",
    "    plt.imshow(seg[z,:,:])\n",
    "\n",
    "    plt.subplot(133)\n",
    "    z = img.shape[-3]//2\n",
    "    plt.imshow(msk[z,:,:], cmap='gray')\n",
    "    plt.show()"
   ]
  },
  {
   "cell_type": "code",
   "execution_count": null,
   "metadata": {},
   "outputs": [],
   "source": [
    "plot_data(img, seg, msk)"
   ]
  },
  {
   "cell_type": "code",
   "execution_count": null,
   "metadata": {},
   "outputs": [],
   "source": [
    "# Create Dataset.\n",
    "dset = Dataset()\n",
    "dset.add_data('img', img)\n",
    "dset.add_data('seg', seg)\n",
    "dset.add_mask('msk', msk, loc=True)"
   ]
  },
  {
   "cell_type": "code",
   "execution_count": null,
   "metadata": {},
   "outputs": [],
   "source": [
    "# Create DataProvider\n",
    "d = 384\n",
    "spec = dict(img=(20,d,d), seg=(22,d,d), msk=(22,d,d))\n",
    "dp = DataProvider(spec)\n",
    "dp.add_dataset(dset)\n",
    "dp.set_imgs(['img'])\n",
    "dp.set_segs(['seg'])"
   ]
  },
  {
   "cell_type": "markdown",
   "metadata": {},
   "source": [
    "## Augmentor"
   ]
  },
  {
   "cell_type": "code",
   "execution_count": null,
   "metadata": {},
   "outputs": [],
   "source": [
    "import augmentor\n",
    "from augmentor import Label"
   ]
  },
  {
   "cell_type": "code",
   "execution_count": null,
   "metadata": {},
   "outputs": [],
   "source": [
    "aug = Label()\n",
    "print(aug)"
   ]
  },
  {
   "cell_type": "code",
   "execution_count": null,
   "metadata": {},
   "outputs": [],
   "source": [
    "dp.set_augment(aug)"
   ]
  },
  {
   "cell_type": "code",
   "execution_count": null,
   "metadata": {},
   "outputs": [],
   "source": [
    "max_iter = 100"
   ]
  },
  {
   "cell_type": "code",
   "execution_count": null,
   "metadata": {},
   "outputs": [],
   "source": [
    "import time\n",
    "\n",
    "elapsed = 0\n",
    "for _ in range(max_iter):\n",
    "    t0 = time.time()\n",
    "    sample = dp()\n",
    "    t1 = time.time()\n",
    "    elapsed += (t1 - t0)\n",
    "print(\"Elapsed = %.2f s/iteration\" % (elapsed/max_iter))"
   ]
  },
  {
   "cell_type": "code",
   "execution_count": null,
   "metadata": {},
   "outputs": [],
   "source": []
  }
 ],
 "metadata": {
  "kernelspec": {
   "display_name": "Python 3",
   "language": "python",
   "name": "python3"
  },
  "language_info": {
   "codemirror_mode": {
    "name": "ipython",
    "version": 3
   },
   "file_extension": ".py",
   "mimetype": "text/x-python",
   "name": "python",
   "nbconvert_exporter": "python",
   "pygments_lexer": "ipython3",
   "version": "3.6.4"
  }
 },
 "nbformat": 4,
 "nbformat_minor": 2
}
