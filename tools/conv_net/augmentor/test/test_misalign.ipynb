{
 "cells": [
  {
   "cell_type": "code",
   "execution_count": 10,
   "metadata": {},
   "outputs": [],
   "source": [
    "%matplotlib inline"
   ]
  },
  {
   "cell_type": "code",
   "execution_count": 1,
   "metadata": {},
   "outputs": [
    {
     "name": "stderr",
     "output_type": "stream",
     "text": [
      "/usr/people/kisuk/miniconda2/envs/conda36/lib/python3.6/site-packages/h5py/__init__.py:36: FutureWarning: Conversion of the second argument of issubdtype from `float` to `np.floating` is deprecated. In future, it will be treated as `np.float64 == np.dtype(float).type`.\n",
      "  from ._conv import register_converters as _register_converters\n"
     ]
    }
   ],
   "source": [
    "import numpy as np\n",
    "import os\n",
    "import dataprovider3 as dp\n",
    "from dataprovider3 import emio"
   ]
  },
  {
   "cell_type": "code",
   "execution_count": 2,
   "metadata": {},
   "outputs": [],
   "source": [
    "base_dir = '~/Data_local/datasets/pinky/ground_truth/stitched_vol40-vol41/'\n",
    "base_dir = os.path.expanduser(base_dir)\n",
    "\n",
    "# Input\n",
    "fname = os.path.join(base_dir, 'img.h5')\n",
    "img = emio.imread(fname).astype('float32') / 255.0\n",
    "\n",
    "# Target\n",
    "fname = os.path.join(base_dir, 'seg.h5')\n",
    "seg = emio.imread(fname)"
   ]
  },
  {
   "cell_type": "code",
   "execution_count": 3,
   "metadata": {},
   "outputs": [
    {
     "data": {
      "text/plain": [
       "<Figure size 640x480 with 2 Axes>"
      ]
     },
     "metadata": {},
     "output_type": "display_data"
    }
   ],
   "source": [
    "import matplotlib.pyplot as plt\n",
    "\n",
    "plt.subplot(1,2,1)\n",
    "plt.imshow(img[1,:,:], cmap='gray')\n",
    "plt.subplot(1,2,2)\n",
    "plt.imshow(seg[1,:,:])\n",
    "plt.show()"
   ]
  },
  {
   "cell_type": "code",
   "execution_count": 4,
   "metadata": {},
   "outputs": [],
   "source": [
    "# Create dataset.\n",
    "dataset = dp.Dataset()\n",
    "dataset.add_data('input', img)\n",
    "dataset.add_data('segmentation', seg)\n",
    "z = 20\n",
    "y = x = 256\n",
    "spec = dict(input=(z,y,x), segmentation=(z+2,y+2,x+2))\n",
    "dataset.set_spec(spec)"
   ]
  },
  {
   "cell_type": "code",
   "execution_count": 5,
   "metadata": {},
   "outputs": [],
   "source": [
    "import augmentor as aug\n",
    "\n",
    "# Augmentor.\n",
    "# misalign = aug.SlipMisalign((5,50))\n",
    "# misalign = aug.MisalignPlusMissing((5,50))\n",
    "track = aug.Track()\n",
    "misalign = aug.MisalignTrackMissing(track, (5,50))"
   ]
  },
  {
   "cell_type": "code",
   "execution_count": 6,
   "metadata": {},
   "outputs": [],
   "source": [
    "# Save sample in h5.\n",
    "def save_sample(fname, sample):\n",
    "    import h5py\n",
    "    with h5py.File(fname, 'w') as f:\n",
    "        for k in sample:\n",
    "            f.create_dataset(k, data=sample[k])"
   ]
  },
  {
   "cell_type": "code",
   "execution_count": 7,
   "metadata": {},
   "outputs": [
    {
     "name": "stdout",
     "output_type": "stream",
     "text": [
      "0.260 s/iter\n"
     ]
    }
   ],
   "source": [
    "import time\n",
    "\n",
    "max_iter = 10\n",
    "t0 = time.time()\n",
    "for _ in range(max_iter):    \n",
    "    spec2  = misalign.prepare(dict(spec), imgs=['input'])\n",
    "    sample = dataset.random_sample(spec=spec2)\n",
    "    sample = misalign(sample)\n",
    "elapsed = time.time() - t0\n",
    "print('{:.3f} s/iter'.format(elapsed/max_iter))"
   ]
  },
  {
   "cell_type": "code",
   "execution_count": 8,
   "metadata": {},
   "outputs": [],
   "source": [
    "# new_spec = misalign.prepare(spec, imgs=['input'])\n",
    "# sample = dataset.random_sample(spec=new_spec)\n",
    "# save_sample('sample.h5', sample)\n",
    "# sample = misalign(sample)\n",
    "# save_sample('sample_misaligned.h5', saample)"
   ]
  },
  {
   "cell_type": "code",
   "execution_count": null,
   "metadata": {},
   "outputs": [],
   "source": []
  }
 ],
 "metadata": {
  "kernelspec": {
   "display_name": "Python 3",
   "language": "python",
   "name": "python3"
  },
  "language_info": {
   "codemirror_mode": {
    "name": "ipython",
    "version": 3
   },
   "file_extension": ".py",
   "mimetype": "text/x-python",
   "name": "python",
   "nbconvert_exporter": "python",
   "pygments_lexer": "ipython3",
   "version": "3.6.4"
  }
 },
 "nbformat": 4,
 "nbformat_minor": 2
}
