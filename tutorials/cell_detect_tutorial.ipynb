{
 "cells": [
  {
   "cell_type": "markdown",
   "metadata": {},
   "source": [
    "### Tutorial to setup parameter dictionary for large-scale inference using the 3D U-Net.\n",
    "Assumes that training, evaluation, and stitching and blending of images is completed through this pipeline."
   ]
  },
  {
   "cell_type": "code",
   "execution_count": 1,
   "metadata": {},
   "outputs": [],
   "source": [
    "#import necessary modules\n",
    "import os, sys, shutil\n",
    "import argparse   \n",
    "from tools.utils.io import load_kwargs\n",
    "from tools.conv_net.utils.preprocessing.preprocess import get_dims_from_folder, make_indices, make_memmap_from_tiff_list, generate_patch, reconstruct_memmap_array_from_tif_dir\n",
    "from tools.conv_net.utils.postprocessing.cell_stats import calculate_cell_measures, consolidate_cell_measures\n",
    "from tools.conv_net.utils.preprocessing.check import check_patchlist_length_equals_patches    \n",
    "import pandas as pd, numpy as np"
   ]
  },
  {
   "cell_type": "markdown",
   "metadata": {},
   "source": [
    "Setup main run function for CPU-based pre- and post-processing."
   ]
  },
  {
   "cell_type": "code",
   "execution_count": 3,
   "metadata": {},
   "outputs": [],
   "source": [
    "def main(**args):\n",
    "    \n",
    "    #args should be the info you need to specify the params\n",
    "    # for a given experiment, but only params should be used below\n",
    "    params = fill_params(**args)\n",
    "    \n",
    "    if params[\"stepid\"] == 0:\n",
    "        #######################################PRE-PROCESSING FOR CNN INPUT --> MAKING INPUT ARRAY######################################################\n",
    "        \n",
    "        #make directory to store patches\n",
    "        if not os.path.exists(params[\"data_dir\"]): os.mkdir(params[\"data_dir\"])\n",
    "    \t#save params to .csv file\n",
    "        save_params(params, params[\"data_dir\"])\n",
    "        \n",
    "        #convert full size data folder into memmap array\n",
    "        make_memmap_from_tiff_list(params[\"cellch_dir\"], params[\"data_dir\"], \n",
    "                                               params[\"cores\"], params[\"dtype\"], params[\"verbose\"])\n",
    "            \n",
    "    elif params[\"stepid\"] == 1:\n",
    "        #######################################PRE-PROCESSING FOR CNN INPUT --> PATCHING###################################################\n",
    "        \n",
    "        #generate memmap array of patches\n",
    "        patch_dst = generate_patch(**params)\n",
    "        sys.stdout.write(\"\\nmade patches in {}\\n\".format(patch_dst)); sys.stdout.flush()\n",
    "        \n",
    "    elif params[\"stepid\"] == 11:\n",
    "        #######################################CHECK TO SEE WHETHER PATCHING WAS SUCCESSFUL###################################################\n",
    "        \n",
    "        #run checker\n",
    "        check_patchlist_length_equals_patches(**params)\n",
    "        sys.stdout.write(\"\\nready for inference!\"); sys.stdout.flush()\n",
    "\n",
    "    elif params[\"stepid\"] == 21:\n",
    "        ####################################POST CNN --> INITIALISING RECONSTRUCTED ARRAY FOR ARRAY JOB####################################\n",
    "        \n",
    "        sys.stdout.write(\"\\ninitialising reconstructed array...\\n\"); sys.stdout.flush()\n",
    "        np.lib.format.open_memmap(params[\"reconstr_arr\"], mode=\"w+\", shape = params[\"inputshape\"], dtype = params[\"dtype\"])\n",
    "        sys.stdout.write(\"done :]\\n\"); sys.stdout.flush()\n",
    "\n",
    "    elif params[\"stepid\"] == 2:\n",
    "        #####################################POST CNN --> RECONSTRUCTION AFTER RUNNING INFERENCE ON TIGER2#################################\n",
    "        \n",
    "        #reconstruct\n",
    "        sys.stdout.write(\"\\nstarting reconstruction...\\n\"); sys.stdout.flush()\n",
    "        reconstruct_memmap_array_from_tif_dir(**params)\n",
    "        if params[\"cleanup\"]: shutil.rmtree(params[\"cnn_dir\"])\n",
    "\n",
    "    elif params[\"stepid\"] == 3:\n",
    "        ##############################################POST CNN --> FINDING CELL CENTERS#####################################################   \n",
    "        \n",
    "        save_params(params, params[\"data_dir\"])\n",
    "        \n",
    "        #find cell centers, measure sphericity, perimeter, and z span of a cell\n",
    "        csv_dst = calculate_cell_measures(**params)\n",
    "        sys.stdout.write(\"\\ncell coordinates and measures saved in {}\\n\".format(csv_dst)); sys.stdout.flush()\n",
    "        \n",
    "    elif params[\"stepid\"] == 4:\n",
    "        ##################################POST CNN --> CONSOLIDATE CELL CENTERS FROM ARRAY JOB##############################################\n",
    "        \n",
    "        #part 1 - check to make sure all jobs that needed to run have completed; part 2 - make pooled results\n",
    "        consolidate_cell_measures(**params)"
   ]
  },
  {
   "cell_type": "markdown",
   "metadata": {},
   "source": [
    "##### Parameter dictionary setup function.\n",
    "For the pre-processing parameters:\n",
    "1. \"float32\" is the recommeded data type for `params[\"dtype\"]`.\n",
    "2. Modify `params[\"cores\"]` accordingful to local desktop or cluster capabilities (6 or higher recommeded).\n",
    "3. `params[\"cleanup\"]` boolean deletes memmory mapped arrays after patches have been generated. Recommend `False` for testing.\n",
    "4. `params[\"patchsz\"]` is entirely dependent on the image dimensions. Recommend 60 planes in the z dimension and dividing the `x` and `y` dimensions by 2 and adding 32 for best performance for 4x or tiled LBVT data and adding 32 to the `x` and `y` dimensions for single-tiled images.\n",
    "5. Specify window used for inference in `params[\"window\"]`. This does not get used but is saved to the parameter dictionary copy generated in the lightsheet data directory.\n",
    "\n",
    "The post-processing parameters can also be changed after pre-processing. Note:\n",
    "1. `params[\"threshold\"]` is important; it is the threshold by which cells will be segmented and centers generated. This can be determined by sweeping for the threshold in your validation data during training and picking the threshold with the best performance.\n",
    "2. `params[\"zsplt\"]` and `params[\"ovlp_plns\"]` relates to the number of planes considered at a time for 3D connected component analysis. Recommend 30 for both for 4x LBVT cellular resolution data for memory efficiency and best performance."
   ]
  },
  {
   "cell_type": "code",
   "execution_count": 11,
   "metadata": {},
   "outputs": [],
   "source": [
    "def fill_params(expt_name, stepid, jobid):\n",
    "\n",
    "    params = {}\n",
    "\n",
    "    #slurm params\n",
    "    params[\"stepid\"]        = stepid\n",
    "    params[\"jobid\"]         = jobid \n",
    "    \n",
    "    #experiment params\n",
    "    params[\"expt_name\"]     = os.path.basename(os.path.abspath(os.path.dirname(expt_name))) #going one folder up to get to fullsizedata\n",
    "        \n",
    "    #find cell channel tiff directory from parameter dict\n",
    "    kwargs = load_kwargs(os.path.dirname(expt_name))\n",
    "    print(\"\\n\\n loading params for: {}\".format(os.path.dirname(expt_name)))\n",
    "    vol = [vol for vol in kwargs[\"volumes\"] if vol.ch_type == \"cellch\"][0]\n",
    "    src = vol.full_sizedatafld_vol\n",
    "    assert os.path.isdir(src), \"nonexistent data directory\"\n",
    "    print(\"\\n\\n data directory: {}\".format(src))\n",
    "    \n",
    "    params[\"cellch_dir\"]    = src\n",
    "    params[\"scratch_dir\"]   = \"/jukebox/scratch/zmd\" #whatever path you are saving patches and reconstructed arrays to to\n",
    "    params[\"data_dir\"]      = os.path.join(params[\"scratch_dir\"], params[\"expt_name\"])\n",
    "    \n",
    "    #changed paths after cnn run\n",
    "    params[\"cnn_data_dir\"]  = os.path.join(params[\"scratch_dir\"], params[\"expt_name\"])\n",
    "    params[\"cnn_dir\"]       = os.path.join(params[\"cnn_data_dir\"], \"output_chnks\") #set cnn patch directory\n",
    "    params[\"reconstr_arr\"]  = os.path.join(params[\"cnn_data_dir\"], \"reconstructed_array.npy\")\n",
    "    params[\"output_dir\"]    = expt_name\n",
    "    \n",
    "    #pre-processing params\n",
    "    params[\"dtype\"]         = \"float32\"\n",
    "    params[\"cores\"]         = 8\n",
    "    params[\"verbose\"]       = True\n",
    "    params[\"cleanup\"]       = False\n",
    "    \n",
    "    params[\"patchsz\"]       = (60, 3840, 3328) #cnn window size for lightsheet = typically 20, 192, 192 for 4x, 20, 32, 32 for 1.3x\n",
    "    params[\"stridesz\"]      = (40, 3648, 3136) \n",
    "    params[\"window\"]        = (20, 192, 192)\n",
    "    \n",
    "    params[\"inputshape\"]    = get_dims_from_folder(src)\n",
    "    params[\"patchlist\"]     = make_indices(params[\"inputshape\"], params[\"stridesz\"])\n",
    "    \n",
    "    #post-processing params\n",
    "    params[\"threshold\"]     = (0.45,1) #h129 = 0.6; prv = 0.48\n",
    "    params[\"zsplt\"]         = 30\n",
    "    params[\"ovlp_plns\"]     = 30\n",
    "        \n",
    "    return params"
   ]
  },
  {
   "cell_type": "markdown",
   "metadata": {},
   "source": [
    "After pre- and post-processing the data for cell detection, the code saves out the parameters you picked per sample as a `.csv` in the `3dunet_output` folder in the main data directory."
   ]
  },
  {
   "cell_type": "code",
   "execution_count": 5,
   "metadata": {},
   "outputs": [],
   "source": [
    "def save_params(params, dst):\n",
    "    \"\"\" \n",
    "    save params in cnn specific parameter dictionary for reconstruction/postprocessing \n",
    "    can discard later if need be\n",
    "    \"\"\"\n",
    "    (pd.DataFrame.from_dict(data=params, orient=\"index\").to_csv(os.path.join(dst, \"cnn_param_dict.csv\"),\n",
    "                            header = False))\n",
    "    sys.stdout.write(\"\\nparameters saved in: {}\".format(os.path.join(dst, \"cnn_param_dict.csv\"))); sys.stdout.flush()"
   ]
  },
  {
   "cell_type": "markdown",
   "metadata": {},
   "source": [
    "Run locally for testing."
   ]
  },
  {
   "cell_type": "code",
   "execution_count": 13,
   "metadata": {},
   "outputs": [
    {
     "name": "stdout",
     "output_type": "stream",
     "text": [
      "\n",
      "\n",
      " loading params for: /jukebox/wang/pisano/tracing_output/antero_4x/20160823_tp_bl6_cri_500r_02\n",
      "\n",
      "\n",
      " data directory: /jukebox/wang/pisano/tracing_output/antero_4x/20160823_tp_bl6_cri_500r_02/full_sizedatafld/20160823_tp_bl6_cri_500r_02_647_008na_1hfds_z7d5um_250msec_10povlp_ch00\n",
      "\n",
      "parameters saved in: /jukebox/scratch/zmd/20160823_tp_bl6_cri_500r_02/cnn_param_dict.csv\n",
      "completed plane 0\n",
      "completed plane 26\n",
      "completed plane 52\n",
      "completed plane 78\n",
      "completed plane 104\n",
      "completed plane 130\n",
      "completed plane 156\n",
      "completed plane 182\n",
      "completed plane 1"
     ]
    },
    {
     "ename": "KeyboardInterrupt",
     "evalue": "",
     "output_type": "error",
     "traceback": [
      "\u001b[0;31m---------------------------------------------------------------------------\u001b[0m",
      "\u001b[0;31mKeyboardInterrupt\u001b[0m                         Traceback (most recent call last)",
      "\u001b[0;32m<ipython-input-13-3d228c4f13aa>\u001b[0m in \u001b[0;36m<module>\u001b[0;34m\u001b[0m\n\u001b[1;32m      9\u001b[0m     \u001b[0margs\u001b[0m\u001b[0;34m[\u001b[0m\u001b[0;34m\"expt_name\"\u001b[0m\u001b[0;34m]\u001b[0m \u001b[0;34m=\u001b[0m \u001b[0;34m\"/jukebox/wang/pisano/tracing_output/antero_4x/20160823_tp_bl6_cri_500r_02/lightsheet\"\u001b[0m \u001b[0;31m#Tracing output directory (aka registration output)\u001b[0m\u001b[0;34m\u001b[0m\u001b[0;34m\u001b[0m\u001b[0m\n\u001b[1;32m     10\u001b[0m \u001b[0;34m\u001b[0m\u001b[0m\n\u001b[0;32m---> 11\u001b[0;31m     \u001b[0mmain\u001b[0m\u001b[0;34m(\u001b[0m\u001b[0;34m**\u001b[0m\u001b[0margs\u001b[0m\u001b[0;34m)\u001b[0m\u001b[0;34m\u001b[0m\u001b[0;34m\u001b[0m\u001b[0m\n\u001b[0m",
      "\u001b[0;32m<ipython-input-3-99d4eaf649bb>\u001b[0m in \u001b[0;36mmain\u001b[0;34m(**args)\u001b[0m\n\u001b[1;32m     15\u001b[0m         \u001b[0;31m#convert full size data folder into memmap array\u001b[0m\u001b[0;34m\u001b[0m\u001b[0;34m\u001b[0m\u001b[0;34m\u001b[0m\u001b[0m\n\u001b[1;32m     16\u001b[0m         make_memmap_from_tiff_list(params[\"cellch_dir\"], params[\"data_dir\"], \n\u001b[0;32m---> 17\u001b[0;31m                                                params[\"cores\"], params[\"dtype\"], params[\"verbose\"])\n\u001b[0m\u001b[1;32m     18\u001b[0m \u001b[0;34m\u001b[0m\u001b[0m\n\u001b[1;32m     19\u001b[0m     \u001b[0;32melif\u001b[0m \u001b[0mparams\u001b[0m\u001b[0;34m[\u001b[0m\u001b[0;34m\"stepid\"\u001b[0m\u001b[0;34m]\u001b[0m \u001b[0;34m==\u001b[0m \u001b[0;36m1\u001b[0m\u001b[0;34m:\u001b[0m\u001b[0;34m\u001b[0m\u001b[0;34m\u001b[0m\u001b[0m\n",
      "\u001b[0;32m~/mounts/wang/zahra/python/lightsheet_py3/tools/conv_net/utils/preprocessing/preprocess.py\u001b[0m in \u001b[0;36mmake_memmap_from_tiff_list\u001b[0;34m(src, dst, cores, dtype, verbose)\u001b[0m\n\u001b[1;32m    125\u001b[0m         \u001b[0miterlst\u001b[0m \u001b[0;34m=\u001b[0m \u001b[0;34m[\u001b[0m\u001b[0;34m(\u001b[0m\u001b[0mi\u001b[0m\u001b[0;34m,\u001b[0m\u001b[0ms\u001b[0m\u001b[0;34m,\u001b[0m \u001b[0mdst\u001b[0m\u001b[0;34m,\u001b[0m \u001b[0mverbose\u001b[0m\u001b[0;34m)\u001b[0m \u001b[0;32mfor\u001b[0m \u001b[0mi\u001b[0m\u001b[0;34m,\u001b[0m\u001b[0ms\u001b[0m \u001b[0;32min\u001b[0m \u001b[0menumerate\u001b[0m\u001b[0;34m(\u001b[0m\u001b[0msrc\u001b[0m\u001b[0;34m)\u001b[0m\u001b[0;34m]\u001b[0m\u001b[0;34m\u001b[0m\u001b[0;34m\u001b[0m\u001b[0m\n\u001b[1;32m    126\u001b[0m         \u001b[0mp\u001b[0m \u001b[0;34m=\u001b[0m \u001b[0mmp\u001b[0m\u001b[0;34m.\u001b[0m\u001b[0mPool\u001b[0m\u001b[0;34m(\u001b[0m\u001b[0mcores\u001b[0m\u001b[0;34m)\u001b[0m\u001b[0;34m\u001b[0m\u001b[0;34m\u001b[0m\u001b[0m\n\u001b[0;32m--> 127\u001b[0;31m         \u001b[0mp\u001b[0m\u001b[0;34m.\u001b[0m\u001b[0mstarmap\u001b[0m\u001b[0;34m(\u001b[0m\u001b[0mmake_memmap_from_tiff_list_helper\u001b[0m\u001b[0;34m,\u001b[0m \u001b[0miterlst\u001b[0m\u001b[0;34m)\u001b[0m\u001b[0;34m\u001b[0m\u001b[0;34m\u001b[0m\u001b[0m\n\u001b[0m\u001b[1;32m    128\u001b[0m         \u001b[0mp\u001b[0m\u001b[0;34m.\u001b[0m\u001b[0mterminate\u001b[0m\u001b[0;34m\u001b[0m\u001b[0;34m\u001b[0m\u001b[0m\n\u001b[1;32m    129\u001b[0m \u001b[0;34m\u001b[0m\u001b[0m\n",
      "\u001b[0;32m~/anaconda2/envs/lspy35/lib/python3.7/multiprocessing/pool.py\u001b[0m in \u001b[0;36mstarmap\u001b[0;34m(self, func, iterable, chunksize)\u001b[0m\n\u001b[1;32m    274\u001b[0m         \u001b[0;31m`\u001b[0m\u001b[0mfunc\u001b[0m\u001b[0;31m`\u001b[0m \u001b[0;32mand\u001b[0m \u001b[0;34m(\u001b[0m\u001b[0ma\u001b[0m\u001b[0;34m,\u001b[0m \u001b[0mb\u001b[0m\u001b[0;34m)\u001b[0m \u001b[0mbecomes\u001b[0m \u001b[0mfunc\u001b[0m\u001b[0;34m(\u001b[0m\u001b[0ma\u001b[0m\u001b[0;34m,\u001b[0m \u001b[0mb\u001b[0m\u001b[0;34m)\u001b[0m\u001b[0;34m.\u001b[0m\u001b[0;34m\u001b[0m\u001b[0;34m\u001b[0m\u001b[0m\n\u001b[1;32m    275\u001b[0m         '''\n\u001b[0;32m--> 276\u001b[0;31m         \u001b[0;32mreturn\u001b[0m \u001b[0mself\u001b[0m\u001b[0;34m.\u001b[0m\u001b[0m_map_async\u001b[0m\u001b[0;34m(\u001b[0m\u001b[0mfunc\u001b[0m\u001b[0;34m,\u001b[0m \u001b[0miterable\u001b[0m\u001b[0;34m,\u001b[0m \u001b[0mstarmapstar\u001b[0m\u001b[0;34m,\u001b[0m \u001b[0mchunksize\u001b[0m\u001b[0;34m)\u001b[0m\u001b[0;34m.\u001b[0m\u001b[0mget\u001b[0m\u001b[0;34m(\u001b[0m\u001b[0;34m)\u001b[0m\u001b[0;34m\u001b[0m\u001b[0;34m\u001b[0m\u001b[0m\n\u001b[0m\u001b[1;32m    277\u001b[0m \u001b[0;34m\u001b[0m\u001b[0m\n\u001b[1;32m    278\u001b[0m     def starmap_async(self, func, iterable, chunksize=None, callback=None,\n",
      "\u001b[0;32m~/anaconda2/envs/lspy35/lib/python3.7/multiprocessing/pool.py\u001b[0m in \u001b[0;36mget\u001b[0;34m(self, timeout)\u001b[0m\n\u001b[1;32m    649\u001b[0m \u001b[0;34m\u001b[0m\u001b[0m\n\u001b[1;32m    650\u001b[0m     \u001b[0;32mdef\u001b[0m \u001b[0mget\u001b[0m\u001b[0;34m(\u001b[0m\u001b[0mself\u001b[0m\u001b[0;34m,\u001b[0m \u001b[0mtimeout\u001b[0m\u001b[0;34m=\u001b[0m\u001b[0;32mNone\u001b[0m\u001b[0;34m)\u001b[0m\u001b[0;34m:\u001b[0m\u001b[0;34m\u001b[0m\u001b[0;34m\u001b[0m\u001b[0m\n\u001b[0;32m--> 651\u001b[0;31m         \u001b[0mself\u001b[0m\u001b[0;34m.\u001b[0m\u001b[0mwait\u001b[0m\u001b[0;34m(\u001b[0m\u001b[0mtimeout\u001b[0m\u001b[0;34m)\u001b[0m\u001b[0;34m\u001b[0m\u001b[0;34m\u001b[0m\u001b[0m\n\u001b[0m\u001b[1;32m    652\u001b[0m         \u001b[0;32mif\u001b[0m \u001b[0;32mnot\u001b[0m \u001b[0mself\u001b[0m\u001b[0;34m.\u001b[0m\u001b[0mready\u001b[0m\u001b[0;34m(\u001b[0m\u001b[0;34m)\u001b[0m\u001b[0;34m:\u001b[0m\u001b[0;34m\u001b[0m\u001b[0;34m\u001b[0m\u001b[0m\n\u001b[1;32m    653\u001b[0m             \u001b[0;32mraise\u001b[0m \u001b[0mTimeoutError\u001b[0m\u001b[0;34m\u001b[0m\u001b[0;34m\u001b[0m\u001b[0m\n",
      "\u001b[0;32m~/anaconda2/envs/lspy35/lib/python3.7/multiprocessing/pool.py\u001b[0m in \u001b[0;36mwait\u001b[0;34m(self, timeout)\u001b[0m\n\u001b[1;32m    646\u001b[0m \u001b[0;34m\u001b[0m\u001b[0m\n\u001b[1;32m    647\u001b[0m     \u001b[0;32mdef\u001b[0m \u001b[0mwait\u001b[0m\u001b[0;34m(\u001b[0m\u001b[0mself\u001b[0m\u001b[0;34m,\u001b[0m \u001b[0mtimeout\u001b[0m\u001b[0;34m=\u001b[0m\u001b[0;32mNone\u001b[0m\u001b[0;34m)\u001b[0m\u001b[0;34m:\u001b[0m\u001b[0;34m\u001b[0m\u001b[0;34m\u001b[0m\u001b[0m\n\u001b[0;32m--> 648\u001b[0;31m         \u001b[0mself\u001b[0m\u001b[0;34m.\u001b[0m\u001b[0m_event\u001b[0m\u001b[0;34m.\u001b[0m\u001b[0mwait\u001b[0m\u001b[0;34m(\u001b[0m\u001b[0mtimeout\u001b[0m\u001b[0;34m)\u001b[0m\u001b[0;34m\u001b[0m\u001b[0;34m\u001b[0m\u001b[0m\n\u001b[0m\u001b[1;32m    649\u001b[0m \u001b[0;34m\u001b[0m\u001b[0m\n\u001b[1;32m    650\u001b[0m     \u001b[0;32mdef\u001b[0m \u001b[0mget\u001b[0m\u001b[0;34m(\u001b[0m\u001b[0mself\u001b[0m\u001b[0;34m,\u001b[0m \u001b[0mtimeout\u001b[0m\u001b[0;34m=\u001b[0m\u001b[0;32mNone\u001b[0m\u001b[0;34m)\u001b[0m\u001b[0;34m:\u001b[0m\u001b[0;34m\u001b[0m\u001b[0;34m\u001b[0m\u001b[0m\n",
      "\u001b[0;32m~/anaconda2/envs/lspy35/lib/python3.7/threading.py\u001b[0m in \u001b[0;36mwait\u001b[0;34m(self, timeout)\u001b[0m\n\u001b[1;32m    550\u001b[0m             \u001b[0msignaled\u001b[0m \u001b[0;34m=\u001b[0m \u001b[0mself\u001b[0m\u001b[0;34m.\u001b[0m\u001b[0m_flag\u001b[0m\u001b[0;34m\u001b[0m\u001b[0;34m\u001b[0m\u001b[0m\n\u001b[1;32m    551\u001b[0m             \u001b[0;32mif\u001b[0m \u001b[0;32mnot\u001b[0m \u001b[0msignaled\u001b[0m\u001b[0;34m:\u001b[0m\u001b[0;34m\u001b[0m\u001b[0;34m\u001b[0m\u001b[0m\n\u001b[0;32m--> 552\u001b[0;31m                 \u001b[0msignaled\u001b[0m \u001b[0;34m=\u001b[0m \u001b[0mself\u001b[0m\u001b[0;34m.\u001b[0m\u001b[0m_cond\u001b[0m\u001b[0;34m.\u001b[0m\u001b[0mwait\u001b[0m\u001b[0;34m(\u001b[0m\u001b[0mtimeout\u001b[0m\u001b[0;34m)\u001b[0m\u001b[0;34m\u001b[0m\u001b[0;34m\u001b[0m\u001b[0m\n\u001b[0m\u001b[1;32m    553\u001b[0m             \u001b[0;32mreturn\u001b[0m \u001b[0msignaled\u001b[0m\u001b[0;34m\u001b[0m\u001b[0;34m\u001b[0m\u001b[0m\n\u001b[1;32m    554\u001b[0m \u001b[0;34m\u001b[0m\u001b[0m\n",
      "\u001b[0;32m~/anaconda2/envs/lspy35/lib/python3.7/threading.py\u001b[0m in \u001b[0;36mwait\u001b[0;34m(self, timeout)\u001b[0m\n\u001b[1;32m    294\u001b[0m         \u001b[0;32mtry\u001b[0m\u001b[0;34m:\u001b[0m    \u001b[0;31m# restore state no matter what (e.g., KeyboardInterrupt)\u001b[0m\u001b[0;34m\u001b[0m\u001b[0;34m\u001b[0m\u001b[0m\n\u001b[1;32m    295\u001b[0m             \u001b[0;32mif\u001b[0m \u001b[0mtimeout\u001b[0m \u001b[0;32mis\u001b[0m \u001b[0;32mNone\u001b[0m\u001b[0;34m:\u001b[0m\u001b[0;34m\u001b[0m\u001b[0;34m\u001b[0m\u001b[0m\n\u001b[0;32m--> 296\u001b[0;31m                 \u001b[0mwaiter\u001b[0m\u001b[0;34m.\u001b[0m\u001b[0macquire\u001b[0m\u001b[0;34m(\u001b[0m\u001b[0;34m)\u001b[0m\u001b[0;34m\u001b[0m\u001b[0;34m\u001b[0m\u001b[0m\n\u001b[0m\u001b[1;32m    297\u001b[0m                 \u001b[0mgotit\u001b[0m \u001b[0;34m=\u001b[0m \u001b[0;32mTrue\u001b[0m\u001b[0;34m\u001b[0m\u001b[0;34m\u001b[0m\u001b[0m\n\u001b[1;32m    298\u001b[0m             \u001b[0;32melse\u001b[0m\u001b[0;34m:\u001b[0m\u001b[0;34m\u001b[0m\u001b[0;34m\u001b[0m\u001b[0m\n",
      "\u001b[0;31mKeyboardInterrupt\u001b[0m: "
     ]
    }
   ],
   "source": [
    "#run\n",
    "if __name__ == \"__main__\":\n",
    "    \n",
    "    #init\n",
    "    args = {}\n",
    "    \n",
    "    args[\"stepid\"] = 0 #Step ID to run patching, reconstructing, or cell counting\n",
    "    args[\"jobid\"] = 0 #Job ID to run as an array job, useful only for step 1,2,3; see slurm files for more info\n",
    "    args[\"expt_name\"] = \"/jukebox/wang/pisano/tracing_output/antero_4x/20160823_tp_bl6_cri_500r_02/lightsheet\" #Tracing output directory (aka registration output)\n",
    "    \n",
    "    main(**args)"
   ]
  }
 ],
 "metadata": {
  "kernelspec": {
   "display_name": "Python 3",
   "language": "python",
   "name": "python3"
  },
  "language_info": {
   "codemirror_mode": {
    "name": "ipython",
    "version": 3
   },
   "file_extension": ".py",
   "mimetype": "text/x-python",
   "name": "python",
   "nbconvert_exporter": "python",
   "pygments_lexer": "ipython3",
   "version": "3.7.3"
  }
 },
 "nbformat": 4,
 "nbformat_minor": 2
}
